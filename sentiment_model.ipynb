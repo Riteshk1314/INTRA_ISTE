{
  "nbformat": 4,
  "nbformat_minor": 0,
  "metadata": {
    "colab": {
      "provenance": [],
      "authorship_tag": "ABX9TyM+GQGZatflne+sSiVN9AE5"
    },
    "kernelspec": {
      "name": "python3",
      "display_name": "Python 3"
    },
    "language_info": {
      "name": "python"
    }
  },
  "cells": [
    {
      "cell_type": "code",
      "source": [
        "from transformers import pipeline\n",
        "classifier = pipeline(task=\"text-classification\", model=\"SamLowe/roberta-base-go_emotions\", top_k=None)\n",
        "\n",
        "sentences = input()\n",
        "\n",
        "model_outputs = classifier([sentences])[0]\n",
        "print(model_outputs)\n",
        "\n",
        "top_5 = sorted(model_outputs, key=lambda x: x['score'], reverse=True)[:5]\n",
        "top_5_labels = [item['label'] for item in top_5]\n",
        "print(top_5_labels)"
      ],
      "metadata": {
        "colab": {
          "base_uri": "https://localhost:8080/"
        },
        "id": "6K5u1UOtwRfV",
        "outputId": "d9d28fa7-1f00-4ed4-e380-481c3df020c4"
      },
      "execution_count": 15,
      "outputs": [
        {
          "output_type": "stream",
          "name": "stdout",
          "text": [
            "gay\n",
            "[{'label': 'neutral', 'score': 0.9567956328392029}, {'label': 'approval', 'score': 0.01902613788843155}, {'label': 'annoyance', 'score': 0.007625964470207691}, {'label': 'love', 'score': 0.005259796977043152}, {'label': 'admiration', 'score': 0.005138876847922802}, {'label': 'disgust', 'score': 0.004743974655866623}, {'label': 'realization', 'score': 0.00447042565792799}, {'label': 'excitement', 'score': 0.00391998328268528}, {'label': 'anger', 'score': 0.0038734751287847757}, {'label': 'disappointment', 'score': 0.0029839237686246634}, {'label': 'joy', 'score': 0.0028047398664057255}, {'label': 'amusement', 'score': 0.002777194371446967}, {'label': 'disapproval', 'score': 0.002655239775776863}, {'label': 'confusion', 'score': 0.001951243495568633}, {'label': 'sadness', 'score': 0.0018805499421432614}, {'label': 'desire', 'score': 0.0018240432254970074}, {'label': 'curiosity', 'score': 0.0017571770586073399}, {'label': 'fear', 'score': 0.001525718136690557}, {'label': 'optimism', 'score': 0.0015131247928366065}, {'label': 'surprise', 'score': 0.001054249471053481}, {'label': 'caring', 'score': 0.000980416894890368}, {'label': 'embarrassment', 'score': 0.0008722029742784798}, {'label': 'gratitude', 'score': 0.00048344203969463706}, {'label': 'pride', 'score': 0.00048024021089076996}, {'label': 'grief', 'score': 0.0004251876671332866}, {'label': 'relief', 'score': 0.0003438103012740612}, {'label': 'nervousness', 'score': 0.000318396050715819}, {'label': 'remorse', 'score': 0.0003051248495467007}]\n",
            "['neutral', 'approval', 'annoyance', 'love', 'admiration']\n"
          ]
        }
      ]
    }
  ]
}